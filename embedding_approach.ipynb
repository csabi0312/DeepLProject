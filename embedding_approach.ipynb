{
  "cells": [
    {
      "cell_type": "markdown",
      "metadata": {
        "id": "view-in-github"
      },
      "source": [
        "<a href=\"https://colab.research.google.com/github/csabi0312/DeepLProject/blob/main/embedding_approach.ipynb\" target=\"_parent\"><img src=\"https://colab.research.google.com/assets/colab-badge.svg\" alt=\"Open In Colab\"/></a>"
      ]
    },
    {
      "cell_type": "markdown",
      "metadata": {
        "id": "VBl7tf1gcmg-"
      },
      "source": [
        "#Packages"
      ]
    },
    {
      "cell_type": "code",
      "execution_count": null,
      "metadata": {
        "id": "-mLalvIHcot_"
      },
      "outputs": [],
      "source": [
        "import pandas as pd\n",
        "import random\n",
        "from tqdm import tqdm\n",
        "from sklearn.model_selection import train_test_split\n",
        "import torch\n",
        "from transformers import AutoTokenizer, AutoModel\n",
        "from tensorflow.keras.models import Model\n",
        "from tensorflow.keras.layers import Input, Flatten, Dense\n",
        "import numpy as np\n",
        "from tensorflow.keras.utils import to_categorical\n",
        "\n",
        "\n",
        "# Setting the random seed\n",
        "seed_value = 42\n",
        "random.seed(seed_value)"
      ]
    },
    {
      "cell_type": "markdown",
      "metadata": {
        "id": "TQ9DHwB1cpLX"
      },
      "source": [
        "#Data manipulations"
      ]
    },
    {
      "cell_type": "code",
      "execution_count": null,
      "metadata": {
        "colab": {
          "base_uri": "https://localhost:8080/",
          "height": 324
        },
        "id": "KO38DHN4EWCy",
        "outputId": "dee3354b-bf23-47a8-a76d-f0d493a04701"
      },
      "outputs": [
        {
          "data": {
            "text/html": [
              "<div>\n",
              "<style scoped>\n",
              "    .dataframe tbody tr th:only-of-type {\n",
              "        vertical-align: middle;\n",
              "    }\n",
              "\n",
              "    .dataframe tbody tr th {\n",
              "        vertical-align: top;\n",
              "    }\n",
              "\n",
              "    .dataframe thead th {\n",
              "        text-align: right;\n",
              "    }\n",
              "</style>\n",
              "<table border=\"1\" class=\"dataframe\">\n",
              "  <thead>\n",
              "    <tr style=\"text-align: right;\">\n",
              "      <th></th>\n",
              "      <th>prompt</th>\n",
              "      <th>A</th>\n",
              "      <th>B</th>\n",
              "      <th>C</th>\n",
              "      <th>D</th>\n",
              "      <th>E</th>\n",
              "      <th>answer</th>\n",
              "    </tr>\n",
              "    <tr>\n",
              "      <th>id</th>\n",
              "      <th></th>\n",
              "      <th></th>\n",
              "      <th></th>\n",
              "      <th></th>\n",
              "      <th></th>\n",
              "      <th></th>\n",
              "      <th></th>\n",
              "    </tr>\n",
              "  </thead>\n",
              "  <tbody>\n",
              "    <tr>\n",
              "      <th>0</th>\n",
              "      <td>Which of the following statements accurately d...</td>\n",
              "      <td>MOND is a theory that reduces the observed mis...</td>\n",
              "      <td>MOND is a theory that increases the discrepanc...</td>\n",
              "      <td>MOND is a theory that explains the missing bar...</td>\n",
              "      <td>MOND is a theory that reduces the discrepancy ...</td>\n",
              "      <td>MOND is a theory that eliminates the observed ...</td>\n",
              "      <td>3</td>\n",
              "    </tr>\n",
              "    <tr>\n",
              "      <th>1</th>\n",
              "      <td>Which of the following is an accurate definiti...</td>\n",
              "      <td>Dynamic scaling refers to the evolution of sel...</td>\n",
              "      <td>Dynamic scaling refers to the non-evolution of...</td>\n",
              "      <td>Dynamic scaling refers to the evolution of sel...</td>\n",
              "      <td>Dynamic scaling refers to the non-evolution of...</td>\n",
              "      <td>Dynamic scaling refers to the evolution of sel...</td>\n",
              "      <td>0</td>\n",
              "    </tr>\n",
              "    <tr>\n",
              "      <th>2</th>\n",
              "      <td>Which of the following statements accurately d...</td>\n",
              "      <td>The triskeles symbol was reconstructed as a fe...</td>\n",
              "      <td>The triskeles symbol is a representation of th...</td>\n",
              "      <td>The triskeles symbol is a representation of a ...</td>\n",
              "      <td>The triskeles symbol represents three interloc...</td>\n",
              "      <td>The triskeles symbol is a representation of th...</td>\n",
              "      <td>0</td>\n",
              "    </tr>\n",
              "    <tr>\n",
              "      <th>3</th>\n",
              "      <td>What is the significance of regularization in ...</td>\n",
              "      <td>Regularizing the mass-energy of an electron wi...</td>\n",
              "      <td>Regularizing the mass-energy of an electron wi...</td>\n",
              "      <td>Regularizing the mass-energy of an electron wi...</td>\n",
              "      <td>Regularizing the mass-energy of an electron wi...</td>\n",
              "      <td>Regularizing the mass-energy of an electron wi...</td>\n",
              "      <td>2</td>\n",
              "    </tr>\n",
              "    <tr>\n",
              "      <th>4</th>\n",
              "      <td>Which of the following statements accurately d...</td>\n",
              "      <td>The angular spacing of features in the diffrac...</td>\n",
              "      <td>The angular spacing of features in the diffrac...</td>\n",
              "      <td>The angular spacing of features in the diffrac...</td>\n",
              "      <td>The angular spacing of features in the diffrac...</td>\n",
              "      <td>The angular spacing of features in the diffrac...</td>\n",
              "      <td>3</td>\n",
              "    </tr>\n",
              "  </tbody>\n",
              "</table>\n",
              "</div>"
            ],
            "text/plain": [
              "                                               prompt  \\\n",
              "id                                                      \n",
              "0   Which of the following statements accurately d...   \n",
              "1   Which of the following is an accurate definiti...   \n",
              "2   Which of the following statements accurately d...   \n",
              "3   What is the significance of regularization in ...   \n",
              "4   Which of the following statements accurately d...   \n",
              "\n",
              "                                                    A  \\\n",
              "id                                                      \n",
              "0   MOND is a theory that reduces the observed mis...   \n",
              "1   Dynamic scaling refers to the evolution of sel...   \n",
              "2   The triskeles symbol was reconstructed as a fe...   \n",
              "3   Regularizing the mass-energy of an electron wi...   \n",
              "4   The angular spacing of features in the diffrac...   \n",
              "\n",
              "                                                    B  \\\n",
              "id                                                      \n",
              "0   MOND is a theory that increases the discrepanc...   \n",
              "1   Dynamic scaling refers to the non-evolution of...   \n",
              "2   The triskeles symbol is a representation of th...   \n",
              "3   Regularizing the mass-energy of an electron wi...   \n",
              "4   The angular spacing of features in the diffrac...   \n",
              "\n",
              "                                                    C  \\\n",
              "id                                                      \n",
              "0   MOND is a theory that explains the missing bar...   \n",
              "1   Dynamic scaling refers to the evolution of sel...   \n",
              "2   The triskeles symbol is a representation of a ...   \n",
              "3   Regularizing the mass-energy of an electron wi...   \n",
              "4   The angular spacing of features in the diffrac...   \n",
              "\n",
              "                                                    D  \\\n",
              "id                                                      \n",
              "0   MOND is a theory that reduces the discrepancy ...   \n",
              "1   Dynamic scaling refers to the non-evolution of...   \n",
              "2   The triskeles symbol represents three interloc...   \n",
              "3   Regularizing the mass-energy of an electron wi...   \n",
              "4   The angular spacing of features in the diffrac...   \n",
              "\n",
              "                                                    E  answer  \n",
              "id                                                             \n",
              "0   MOND is a theory that eliminates the observed ...       3  \n",
              "1   Dynamic scaling refers to the evolution of sel...       0  \n",
              "2   The triskeles symbol is a representation of th...       0  \n",
              "3   Regularizing the mass-energy of an electron wi...       2  \n",
              "4   The angular spacing of features in the diffrac...       3  "
            ]
          },
          "execution_count": 2,
          "metadata": {},
          "output_type": "execute_result"
        }
      ],
      "source": [
        "#Loading the questions\n",
        "data = pd.read_csv(\"https://raw.githubusercontent.com/csabi0312/DeepLProject/main/train.csv\",index_col=0)\n",
        "\n",
        "# Creating a dictionary to map the values to numbers\n",
        "mapping = {'A': 0, 'B': 1, 'C': 2, 'D': 3, 'E': 4}\n",
        "\n",
        "# Replacing the values in the 'answer' column\n",
        "data['answer'] = data['answer'].replace(mapping)\n",
        "data.head()"
      ]
    },
    {
      "cell_type": "code",
      "execution_count": null,
      "metadata": {
        "colab": {
          "base_uri": "https://localhost:8080/"
        },
        "id": "sA54xrFajfQE",
        "outputId": "e1e0d948-dbe7-4476-fcd7-cae9c2d13768"
      },
      "outputs": [
        {
          "name": "stdout",
          "output_type": "stream",
          "text": [
            "100\n",
            "50\n",
            "50\n"
          ]
        }
      ],
      "source": [
        "#Train-Val-Test split:\n",
        "# Splitting the DataFrame into training, validation, and test datasets with a 2:1:1 ratio\n",
        "train, temp = train_test_split(data, test_size=0.5, random_state=42)\n",
        "val, test = train_test_split(temp, test_size=0.5, random_state=42)\n",
        "\n",
        "print(len(train))\n",
        "print(len(val))\n",
        "print(len(test))"
      ]
    },
    {
      "cell_type": "markdown",
      "metadata": {
        "id": "gChAdoCCKiGN"
      },
      "source": [
        "The following code snippet acquires embeddings for the questions and possible answers using sciBERT"
      ]
    },
    {
      "cell_type": "code",
      "execution_count": null,
      "metadata": {
        "id": "LnPlDITGKiGN"
      },
      "outputs": [],
      "source": [
        "# Load the SciBERT tokenizer and model\n",
        "tokenizer = AutoTokenizer.from_pretrained(\"allenai/scibert_scivocab_uncased\")\n",
        "model = AutoModel.from_pretrained(\"allenai/scibert_scivocab_uncased\")\n",
        "\n",
        "# Function to get embeddings for the prompts and answers\n",
        "def get_embeddings(prompt, answers):\n",
        "    embeddings = []\n",
        "\n",
        "    # Get embedding for the question\n",
        "    prompt_embedding = get_embedding(prompt)\n",
        "    embeddings.append(prompt_embedding)\n",
        "\n",
        "    # Get embeddings for each answer\n",
        "    for ans in answers:\n",
        "        answer_embedding = get_embedding(ans)\n",
        "        embeddings.append(answer_embedding)\n",
        "\n",
        "    return torch.stack(embeddings)\n",
        "\n",
        "# Function to get embedding for a text\n",
        "def get_embedding(text):\n",
        "    inputs = tokenizer(text, return_tensors='pt')\n",
        "    with torch.no_grad():\n",
        "        outputs = model(**inputs)\n",
        "    return outputs.last_hidden_state.mean(dim=1).squeeze()"
      ]
    },
    {
      "cell_type": "code",
      "execution_count": null,
      "metadata": {
        "id": "KVEQtc7JKiGO"
      },
      "outputs": [],
      "source": [
        "df = train.copy()\n",
        "\n",
        "# Get embeddings for prompts and answers\n",
        "X = []\n",
        "for _, row in df.iterrows():\n",
        "    prompt = row['prompt']\n",
        "    answers = [row['A'], row['B'], row['C'], row['D'], row['E']]\n",
        "\n",
        "    embeddings = get_embeddings(prompt, answers)\n",
        "    X.append(embeddings)\n",
        "\n",
        "X = torch.stack(X)\n",
        "X = X.view(-1, 6, 768)  # Reshape the tensor to the desired shape\n",
        "\n",
        "# Convert PyTorch tensor to NumPy array\n",
        "X_np = X.cpu().numpy()\n",
        "\n",
        "# Making a categorical y\n",
        "y = train['answer']\n",
        "y_train = to_categorical(y, 5)"
      ]
    },
    {
      "cell_type": "code",
      "execution_count": null,
      "metadata": {
        "id": "errdxEocKiGO",
        "outputId": "7b56b512-5181-4717-d4ee-ae1b43451ed5"
      },
      "outputs": [
        {
          "name": "stdout",
          "output_type": "stream",
          "text": [
            "Epoch 1/20\n",
            "7/7 [==============================] - 1s 14ms/step - loss: 2.7285\n",
            "Epoch 2/20\n",
            "7/7 [==============================] - 0s 13ms/step - loss: 1.3156\n",
            "Epoch 3/20\n",
            "7/7 [==============================] - 0s 14ms/step - loss: 0.8673\n",
            "Epoch 4/20\n",
            "7/7 [==============================] - 0s 14ms/step - loss: 0.5560\n",
            "Epoch 5/20\n",
            "7/7 [==============================] - 0s 13ms/step - loss: 0.4719\n",
            "Epoch 6/20\n",
            "7/7 [==============================] - 0s 14ms/step - loss: 0.3866\n",
            "Epoch 7/20\n",
            "7/7 [==============================] - 0s 13ms/step - loss: 0.2225\n",
            "Epoch 8/20\n",
            "7/7 [==============================] - 0s 10ms/step - loss: 0.2001\n",
            "Epoch 9/20\n",
            "7/7 [==============================] - 0s 13ms/step - loss: 0.1353\n",
            "Epoch 10/20\n",
            "7/7 [==============================] - 0s 13ms/step - loss: 0.1011\n",
            "Epoch 11/20\n",
            "7/7 [==============================] - 0s 14ms/step - loss: 0.0749\n",
            "Epoch 12/20\n",
            "7/7 [==============================] - 0s 13ms/step - loss: 0.0567\n",
            "Epoch 13/20\n",
            "7/7 [==============================] - 0s 13ms/step - loss: 0.0486\n",
            "Epoch 14/20\n",
            "7/7 [==============================] - 0s 14ms/step - loss: 0.0402\n",
            "Epoch 15/20\n",
            "7/7 [==============================] - 0s 14ms/step - loss: 0.0372\n",
            "Epoch 16/20\n",
            "7/7 [==============================] - 0s 11ms/step - loss: 0.0322\n",
            "Epoch 17/20\n",
            "7/7 [==============================] - 0s 14ms/step - loss: 0.0278\n",
            "Epoch 18/20\n",
            "7/7 [==============================] - 0s 13ms/step - loss: 0.0248\n",
            "Epoch 19/20\n",
            "7/7 [==============================] - 0s 14ms/step - loss: 0.0230\n",
            "Epoch 20/20\n",
            "7/7 [==============================] - 0s 12ms/step - loss: 0.0206\n"
          ]
        },
        {
          "data": {
            "text/plain": [
              "<keras.src.callbacks.History at 0x1ff28517090>"
            ]
          },
          "execution_count": 6,
          "metadata": {},
          "output_type": "execute_result"
        }
      ],
      "source": [
        "# Define a simple ranking neural network using Keras\n",
        "input_layer = Input(shape=(6, 768))\n",
        "flatten_layer = Flatten()(input_layer)\n",
        "dense_1 = Dense(128, activation='relu')(flatten_layer)\n",
        "output_layer = Dense(5, activation='softmax')(dense_1)\n",
        "\n",
        "# Create the model\n",
        "ranker_model = Model(inputs=input_layer, outputs=output_layer)\n",
        "ranker_model.compile(optimizer='adam', loss='categorical_crossentropy')  # Use appropriate optimizer and loss\n",
        "\n",
        "# Train the model\n",
        "ranker_model.fit(X_np, y_train, epochs=20, batch_size=16)"
      ]
    },
    {
      "cell_type": "code",
      "execution_count": null,
      "metadata": {
        "id": "hglDUuV4KiGP",
        "outputId": "91348f30-0fd7-434b-c378-552a6bdf247c"
      },
      "outputs": [
        {
          "name": "stdout",
          "output_type": "stream",
          "text": [
            "4/4 [==============================] - 0s 3ms/step\n"
          ]
        }
      ],
      "source": [
        "# Predict and get top 3 indices for each prediction\n",
        "predictions = ranker_model.predict(X_np)\n",
        "top3_indices = np.argsort(predictions, axis=1)[:, -3:][:, ::-1]\n",
        "\n",
        "# Convert categorical labels to indices\n",
        "y_true_indices = np.argmax(y_train, axis=1)"
      ]
    },
    {
      "cell_type": "markdown",
      "metadata": {
        "id": "QY9cxmyVKiGQ"
      },
      "source": [
        "Calculating the accuracy"
      ]
    },
    {
      "cell_type": "code",
      "execution_count": null,
      "metadata": {
        "id": "h2IR326kKiGQ",
        "outputId": "17117012-184b-4754-a946-08e6ec5db8f8"
      },
      "outputs": [
        {
          "name": "stdout",
          "output_type": "stream",
          "text": [
            "4/4 [==============================] - 0s 2ms/step\n",
            "100 0\n"
          ]
        }
      ],
      "source": [
        "real = list(y)\n",
        "l = []\n",
        "pred = ranker_model.predict(X_np)\n",
        "for p in pred:\n",
        "    l.append(np.argmax(p))\n",
        "\n",
        "correct, wrong = 0, 0\n",
        "for i in range(len(l)):\n",
        "    if l[i] == real[i]:\n",
        "        correct+=1\n",
        "    else:\n",
        "        wrong+=1\n",
        "print(correct, wrong)"
      ]
    },
    {
      "cell_type": "markdown",
      "metadata": {
        "id": "U4525ya5KiGR"
      },
      "source": [
        "Calculating Mean Average Precision @ 3 (MAP@3), which is the used metric in the kaggle competition"
      ]
    },
    {
      "cell_type": "code",
      "execution_count": null,
      "metadata": {
        "id": "7HvYN_MrKiGR",
        "outputId": "177fce8d-c1fb-4a05-dcde-31005e78d072"
      },
      "outputs": [
        {
          "name": "stdout",
          "output_type": "stream",
          "text": [
            "MAP@3: 1.0\n"
          ]
        }
      ],
      "source": [
        "# Calculate Mean Average Precision @ 3 (MAP@3)\n",
        "def map3(actual, predicted, k=3):\n",
        "    if len(predicted) > k:\n",
        "        predicted = predicted[:k]\n",
        "\n",
        "    score = 0.0\n",
        "    num_hits = 0.0\n",
        "\n",
        "    for i, p in enumerate(predicted):\n",
        "        if p == actual and p not in predicted[:i]:\n",
        "            num_hits += 1.0\n",
        "            score += num_hits / (i + 1.0)\n",
        "\n",
        "    if np.isnan(score) or np.isnan(num_hits):\n",
        "        return 0.0\n",
        "\n",
        "    return score\n",
        "\n",
        "map3_score = np.mean([map3(actual, predicted, k=3) for actual, predicted in zip(y_true_indices, top3_indices)])\n",
        "print(\"MAP@3:\", map3_score)"
      ]
    },
    {
      "cell_type": "markdown",
      "metadata": {
        "id": "L02pFd5wKiGS"
      },
      "source": [
        "Evaluating on the test set (Accuracy and MAP@3)"
      ]
    },
    {
      "cell_type": "code",
      "execution_count": null,
      "metadata": {
        "id": "focL2px5KiGS"
      },
      "outputs": [],
      "source": [
        "df = test.copy()\n",
        "\n",
        "# Get embeddings for prompts and answers\n",
        "X = []\n",
        "for _, row in df.iterrows():\n",
        "    prompt = row['prompt']\n",
        "    answers = [row['A'], row['B'], row['C'], row['D'], row['E']]\n",
        "\n",
        "    embeddings = get_embeddings(prompt, answers)\n",
        "    X.append(embeddings)\n",
        "\n",
        "X = torch.stack(X)\n",
        "X = X.view(-1, 6, 768)  # Reshape the tensor to the desired shape\n",
        "X_np = X.cpu().numpy()\n",
        "\n",
        "y = test['answer']\n",
        "y_test = to_categorical(y, 5)"
      ]
    },
    {
      "cell_type": "code",
      "execution_count": null,
      "metadata": {
        "id": "kGxNAcugKiGT",
        "outputId": "15387fed-98a3-4a30-c127-f2c750777d48"
      },
      "outputs": [
        {
          "name": "stdout",
          "output_type": "stream",
          "text": [
            "2/2 [==============================] - 0s 11ms/step\n",
            "15 35\n"
          ]
        }
      ],
      "source": [
        "real = list(y)\n",
        "l = []\n",
        "pred = ranker_model.predict(X_np)\n",
        "for p in pred:\n",
        "    l.append(np.argmax(p))\n",
        "\n",
        "correct, wrong = 0, 0\n",
        "for i in range(len(l)):\n",
        "    if l[i] == real[i]:\n",
        "        correct+=1\n",
        "    else:\n",
        "        wrong+=1\n",
        "print(correct, wrong)"
      ]
    },
    {
      "cell_type": "code",
      "execution_count": null,
      "metadata": {
        "id": "pFSeYEA9KiGT",
        "outputId": "8df0cefe-62c5-4415-a699-2a99be8b624e"
      },
      "outputs": [
        {
          "name": "stdout",
          "output_type": "stream",
          "text": [
            "MAP@3: 0.4233333333333333\n"
          ]
        }
      ],
      "source": [
        "predictions = ranker_model.predict(X_np)\n",
        "top3_indices = np.argsort(predictions, axis=1)[:, -3:][:, ::-1]\n",
        "\n",
        "# Convert categorical labels to indices\n",
        "y_true_indices = np.argmax(y_test, axis=1)\n",
        "\n",
        "map3_score = np.mean([map3(actual, predicted, k=3) for actual, predicted in zip(y_true_indices, top3_indices)])\n",
        "print(\"MAP@3:\", map3_score)"
      ]
    },
    {
      "cell_type": "markdown",
      "source": [
        "# TODO\n",
        "- Improve the neural network architecture (avoid overfitting)\n",
        "- Improve the embedding extraction method\n",
        "- Try PCA"
      ],
      "metadata": {
        "id": "3MLQCi5LKpvq"
      }
    }
  ],
  "metadata": {
    "colab": {
      "provenance": []
    },
    "kernelspec": {
      "display_name": "Python 3 (ipykernel)",
      "language": "python",
      "name": "python3"
    },
    "language_info": {
      "codemirror_mode": {
        "name": "ipython",
        "version": 3
      },
      "file_extension": ".py",
      "mimetype": "text/x-python",
      "name": "python",
      "nbconvert_exporter": "python",
      "pygments_lexer": "ipython3",
      "version": "3.11.5"
    }
  },
  "nbformat": 4,
  "nbformat_minor": 0
}