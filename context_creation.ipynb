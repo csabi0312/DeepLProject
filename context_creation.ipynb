{
  "cells": [
    {
      "cell_type": "markdown",
      "metadata": {
        "collapsed": false,
        "id": "e9fd885529449408"
      },
      "source": [
        "# Context creation using Wikipedia\n",
        "\n",
        "We downloaded the 13GB Wikipedia Plaintext (2023-07-01) dataset from Kaggle. The wikipedia articles are stored in parquet files. We use only the wiki_2023_index.parquet file that contains the first sentences of the articles as context for the mdel. Then we use the Sentence Transformer library to embed the wikipedia articles and then used Faiss to create an index of the embeddings. We then used the index to retrieve the most similar wikipedia article for each question.\n",
        "\n",
        "## Sources\n",
        "\n",
        "* https://www.kaggle.com/datasets/jjinho/wikipedia-20230701/data?select=h.parquet\n",
        "\n",
        "* https://github.com/facebookresearch/faiss/wiki"
      ],
      "id": "e9fd885529449408"
    },
    {
      "cell_type": "code",
      "execution_count": null,
      "metadata": {
        "colab": {
          "background_save": true
        },
        "id": "Vp1IHzw93z-q"
      },
      "outputs": [],
      "source": [
        "!pip install kaggle\n",
        "!pip install datasets\n",
        "!pip install faiss-gpu sentence-transformers"
      ],
      "id": "Vp1IHzw93z-q"
    },
    {
      "cell_type": "code",
      "execution_count": null,
      "metadata": {
        "id": "KfJXobe14diY",
        "outputId": "f89d2baa-e828-4de4-f0b0-74f04345a4e7",
        "colab": {
          "base_uri": "https://localhost:8080/",
          "height": 37
        }
      },
      "outputs": [
        {
          "data": {
            "text/html": [
              "\n",
              "     <input type=\"file\" id=\"files-3b2041b9-9e58-4b22-a3b6-d5346427066e\" name=\"files[]\" multiple disabled\n",
              "        style=\"border:none\" />\n",
              "     <output id=\"result-3b2041b9-9e58-4b22-a3b6-d5346427066e\">\n",
              "      Upload widget is only available when the cell has been executed in the\n",
              "      current browser session. Please rerun this cell to enable.\n",
              "      </output>\n",
              "      <script>// Copyright 2017 Google LLC\n",
              "//\n",
              "// Licensed under the Apache License, Version 2.0 (the \"License\");\n",
              "// you may not use this file except in compliance with the License.\n",
              "// You may obtain a copy of the License at\n",
              "//\n",
              "//      http://www.apache.org/licenses/LICENSE-2.0\n",
              "//\n",
              "// Unless required by applicable law or agreed to in writing, software\n",
              "// distributed under the License is distributed on an \"AS IS\" BASIS,\n",
              "// WITHOUT WARRANTIES OR CONDITIONS OF ANY KIND, either express or implied.\n",
              "// See the License for the specific language governing permissions and\n",
              "// limitations under the License.\n",
              "\n",
              "/**\n",
              " * @fileoverview Helpers for google.colab Python module.\n",
              " */\n",
              "(function(scope) {\n",
              "function span(text, styleAttributes = {}) {\n",
              "  const element = document.createElement('span');\n",
              "  element.textContent = text;\n",
              "  for (const key of Object.keys(styleAttributes)) {\n",
              "    element.style[key] = styleAttributes[key];\n",
              "  }\n",
              "  return element;\n",
              "}\n",
              "\n",
              "// Max number of bytes which will be uploaded at a time.\n",
              "const MAX_PAYLOAD_SIZE = 100 * 1024;\n",
              "\n",
              "function _uploadFiles(inputId, outputId) {\n",
              "  const steps = uploadFilesStep(inputId, outputId);\n",
              "  const outputElement = document.getElementById(outputId);\n",
              "  // Cache steps on the outputElement to make it available for the next call\n",
              "  // to uploadFilesContinue from Python.\n",
              "  outputElement.steps = steps;\n",
              "\n",
              "  return _uploadFilesContinue(outputId);\n",
              "}\n",
              "\n",
              "// This is roughly an async generator (not supported in the browser yet),\n",
              "// where there are multiple asynchronous steps and the Python side is going\n",
              "// to poll for completion of each step.\n",
              "// This uses a Promise to block the python side on completion of each step,\n",
              "// then passes the result of the previous step as the input to the next step.\n",
              "function _uploadFilesContinue(outputId) {\n",
              "  const outputElement = document.getElementById(outputId);\n",
              "  const steps = outputElement.steps;\n",
              "\n",
              "  const next = steps.next(outputElement.lastPromiseValue);\n",
              "  return Promise.resolve(next.value.promise).then((value) => {\n",
              "    // Cache the last promise value to make it available to the next\n",
              "    // step of the generator.\n",
              "    outputElement.lastPromiseValue = value;\n",
              "    return next.value.response;\n",
              "  });\n",
              "}\n",
              "\n",
              "/**\n",
              " * Generator function which is called between each async step of the upload\n",
              " * process.\n",
              " * @param {string} inputId Element ID of the input file picker element.\n",
              " * @param {string} outputId Element ID of the output display.\n",
              " * @return {!Iterable<!Object>} Iterable of next steps.\n",
              " */\n",
              "function* uploadFilesStep(inputId, outputId) {\n",
              "  const inputElement = document.getElementById(inputId);\n",
              "  inputElement.disabled = false;\n",
              "\n",
              "  const outputElement = document.getElementById(outputId);\n",
              "  outputElement.innerHTML = '';\n",
              "\n",
              "  const pickedPromise = new Promise((resolve) => {\n",
              "    inputElement.addEventListener('change', (e) => {\n",
              "      resolve(e.target.files);\n",
              "    });\n",
              "  });\n",
              "\n",
              "  const cancel = document.createElement('button');\n",
              "  inputElement.parentElement.appendChild(cancel);\n",
              "  cancel.textContent = 'Cancel upload';\n",
              "  const cancelPromise = new Promise((resolve) => {\n",
              "    cancel.onclick = () => {\n",
              "      resolve(null);\n",
              "    };\n",
              "  });\n",
              "\n",
              "  // Wait for the user to pick the files.\n",
              "  const files = yield {\n",
              "    promise: Promise.race([pickedPromise, cancelPromise]),\n",
              "    response: {\n",
              "      action: 'starting',\n",
              "    }\n",
              "  };\n",
              "\n",
              "  cancel.remove();\n",
              "\n",
              "  // Disable the input element since further picks are not allowed.\n",
              "  inputElement.disabled = true;\n",
              "\n",
              "  if (!files) {\n",
              "    return {\n",
              "      response: {\n",
              "        action: 'complete',\n",
              "      }\n",
              "    };\n",
              "  }\n",
              "\n",
              "  for (const file of files) {\n",
              "    const li = document.createElement('li');\n",
              "    li.append(span(file.name, {fontWeight: 'bold'}));\n",
              "    li.append(span(\n",
              "        `(${file.type || 'n/a'}) - ${file.size} bytes, ` +\n",
              "        `last modified: ${\n",
              "            file.lastModifiedDate ? file.lastModifiedDate.toLocaleDateString() :\n",
              "                                    'n/a'} - `));\n",
              "    const percent = span('0% done');\n",
              "    li.appendChild(percent);\n",
              "\n",
              "    outputElement.appendChild(li);\n",
              "\n",
              "    const fileDataPromise = new Promise((resolve) => {\n",
              "      const reader = new FileReader();\n",
              "      reader.onload = (e) => {\n",
              "        resolve(e.target.result);\n",
              "      };\n",
              "      reader.readAsArrayBuffer(file);\n",
              "    });\n",
              "    // Wait for the data to be ready.\n",
              "    let fileData = yield {\n",
              "      promise: fileDataPromise,\n",
              "      response: {\n",
              "        action: 'continue',\n",
              "      }\n",
              "    };\n",
              "\n",
              "    // Use a chunked sending to avoid message size limits. See b/62115660.\n",
              "    let position = 0;\n",
              "    do {\n",
              "      const length = Math.min(fileData.byteLength - position, MAX_PAYLOAD_SIZE);\n",
              "      const chunk = new Uint8Array(fileData, position, length);\n",
              "      position += length;\n",
              "\n",
              "      const base64 = btoa(String.fromCharCode.apply(null, chunk));\n",
              "      yield {\n",
              "        response: {\n",
              "          action: 'append',\n",
              "          file: file.name,\n",
              "          data: base64,\n",
              "        },\n",
              "      };\n",
              "\n",
              "      let percentDone = fileData.byteLength === 0 ?\n",
              "          100 :\n",
              "          Math.round((position / fileData.byteLength) * 100);\n",
              "      percent.textContent = `${percentDone}% done`;\n",
              "\n",
              "    } while (position < fileData.byteLength);\n",
              "  }\n",
              "\n",
              "  // All done.\n",
              "  yield {\n",
              "    response: {\n",
              "      action: 'complete',\n",
              "    }\n",
              "  };\n",
              "}\n",
              "\n",
              "scope.google = scope.google || {};\n",
              "scope.google.colab = scope.google.colab || {};\n",
              "scope.google.colab._files = {\n",
              "  _uploadFiles,\n",
              "  _uploadFilesContinue,\n",
              "};\n",
              "})(self);\n",
              "</script> "
            ],
            "text/plain": [
              "<IPython.core.display.HTML object>"
            ]
          },
          "metadata": {},
          "output_type": "display_data"
        }
      ],
      "source": [
        "from google.colab import files\n",
        "\n",
        "# Upload kaggle.json file to google drive\n",
        "uploaded = files.upload()"
      ],
      "id": "KfJXobe14diY"
    },
    {
      "cell_type": "code",
      "execution_count": null,
      "metadata": {
        "id": "EOPo0-6y419i"
      },
      "outputs": [],
      "source": [
        "# Create kaggle directory\n",
        "!mkdir -p ~/.kaggle\n",
        "!mv kaggle.json ~/.kaggle/\n",
        "!chmod 600 ~/.kaggle/kaggle.json"
      ],
      "id": "EOPo0-6y419i"
    },
    {
      "cell_type": "code",
      "execution_count": null,
      "metadata": {
        "id": "NdkzoqhJ5Dly"
      },
      "outputs": [],
      "source": [
        "import kaggle\n",
        "\n",
        "# Specify the Kaggle dataset we want to download\n",
        "dataset_name = 'jjinho/wikipedia-20230701'\n",
        "\n",
        "# Download the specific file and unzip it\n",
        "kaggle.api.authenticate()\n",
        "kaggle.api.dataset_download_files(dataset_name, path='.', unzip=True)"
      ],
      "id": "NdkzoqhJ5Dly"
    },
    {
      "cell_type": "code",
      "execution_count": null,
      "metadata": {
        "id": "de332064111d4297"
      },
      "outputs": [],
      "source": [
        "# Importing the libraries\n",
        "import os\n",
        "import pandas as pd\n",
        "from datasets import load_dataset\n",
        "import faiss\n",
        "from sentence_transformers import SentenceTransformer\n",
        "import torch"
      ],
      "id": "de332064111d4297"
    },
    {
      "cell_type": "code",
      "execution_count": null,
      "metadata": {
        "id": "oHsOj6E_LY54"
      },
      "outputs": [],
      "source": [
        "#IMportant parameters describing the code\n",
        "SIM_MODEL = 'all-MiniLM-L6-v2'\n",
        "DEVICE = 'cuda' if torch.cuda.is_available() else 'cpu'"
      ],
      "id": "oHsOj6E_LY54"
    },
    {
      "cell_type": "code",
      "execution_count": null,
      "metadata": {
        "collapsed": true,
        "id": "initial_id"
      },
      "outputs": [],
      "source": [
        "#Loading the questions\n",
        "qna_df = pd.read_csv(\"https://raw.githubusercontent.com/csabi0312/DeepLProject/main/train.csv\",index_col=0)\n",
        "\n",
        "qna_df.head()"
      ],
      "id": "initial_id"
    },
    {
      "cell_type": "code",
      "execution_count": null,
      "metadata": {
        "id": "79e95e5a249d93af"
      },
      "outputs": [],
      "source": [
        "# Load Parquet files into a Hugging Face dataset\n",
        "# Source: https://www.kaggle.com/datasets/jjinho/wikipedia-20230701/data?select=wiki_2023_index.parquet\n",
        "wiki_dataset = load_dataset('parquet', data_files={'train': 'wiki_2023_index.parquet'}, split='train') # 1.76GB file"
      ],
      "id": "79e95e5a249d93af"
    },
    {
      "cell_type": "code",
      "execution_count": null,
      "metadata": {
        "id": "YX-mZohpCITU"
      },
      "outputs": [],
      "source": [
        "wiki_dataset"
      ],
      "id": "YX-mZohpCITU"
    },
    {
      "cell_type": "code",
      "execution_count": null,
      "metadata": {
        "id": "96655b8bff1a15de"
      },
      "outputs": [],
      "source": [
        "# Load pre-trained sentence transformer model\n",
        "model = SentenceTransformer(SIM_MODEL)\n",
        "# Create a Faiss index\n",
        "index = faiss.IndexFlatIP(context_embeddings.shape[1])\n",
        "\n",
        "# Define batch size\n",
        "batch_size = 500_000\n",
        "\n",
        "# Iterate over the dataset in batches\n",
        "for i in range(0, len(wiki_dataset['context']), batch_size):\n",
        "    # Encode the context sentences using the SentenceTransformer model\n",
        "    context_embeddings = model.encode(wiki_dataset['context'][i:i+batch_size],\n",
        "                                      device=DEVICE,\n",
        "                                      show_progress_bar=True,\n",
        "                                      convert_to_tensor=True,\n",
        "                                      normalize_embeddings=True).half()  # Use mixed-precision training (FP16) to reduce memory footprint\n",
        "\n",
        "    # Convert the embeddings to a numpy array\n",
        "    context_embeddings_np = context_embeddings.detach().cpu().numpy()\n",
        "    context_embeddings_np = context_embeddings_np.astype('float32')\n",
        "\n",
        "    # Add the embeddings to the Faiss index\n",
        "    index.add(context_embeddings_np)\n",
        "\n",
        "    # Free up memory\n",
        "    del context_embeddings, context_embeddings_np\n",
        "\n",
        "# Function to retrieve most similar documents\n",
        "def retrieve_most_similar(query, k=20):\n",
        "    query_embedding = model.encode(query, device=DEVICE, show_progress_bar=True, convert_to_tensor=True, normalize_embeddings=True)\n",
        "    query_embedding = query_embedding.reshape(1, -1)  # Reshape for Faiss\n",
        "    query_embedding = query_embedding.detach().cpu().numpy()\n",
        "    _, idx = index.search(query_embedding, k)\n",
        "    return idx[0]\n",
        "\n",
        "# Example usage\n",
        "query_text = qna_df['prompt'][0]\n",
        "print(f'example prompt {query_text}')\n",
        "similar_documents_indices = retrieve_most_similar(query_text)\n",
        "\n",
        "# Print similar documents\n",
        "for idx in similar_documents_indices:\n",
        "    print(wiki_dataset[int(idx)]['context'])"
      ],
      "id": "96655b8bff1a15de"
    },
    {
      "cell_type": "code",
      "execution_count": null,
      "metadata": {
        "id": "PiyUWn1-Gycm"
      },
      "outputs": [],
      "source": [
        "# Print similar documents\n",
        "for idx in similar_documents_indices:\n",
        "    print(wiki_dataset[int(idx)]['text'])"
      ],
      "id": "PiyUWn1-Gycm"
    },
    {
      "cell_type": "code",
      "execution_count": null,
      "metadata": {
        "id": "856ae0d2a429ca8a"
      },
      "outputs": [],
      "source": [
        "# Create the context column from the wikipedia article\n",
        "# Create an empty list to store the context for each prompt\n",
        "context_list = []\n",
        "\n",
        "# Loop through each prompt in the qna_df dataframe\n",
        "for i in range(len(qna_df)):\n",
        "    query_text = qna_df['prompt'][i]\n",
        "    similar_documents_indices = retrieve_most_similar(query_text)\n",
        "\n",
        "    # Get the first answer from the corresponding wiki_dataset\n",
        "    context = wiki_dataset[int(similar_documents_indices[0])]['context']\n",
        "\n",
        "\n",
        "    context_list.append(context)\n",
        "\n",
        "# Add the context_list as a new column \"context\" to the qna_df DataFrame\n",
        "qna_df['context'] = context_list\n",
        "\n",
        "# Save the Q&A DataFrame to a CSV file\n",
        "qna_df.to_csv('openbook-qna-data.csv', index=False)\n",
        "\n",
        "# Display the modified DataFrame\n",
        "qna_df.head()"
      ],
      "id": "856ae0d2a429ca8a"
    },
    {
      "cell_type": "code",
      "execution_count": null,
      "metadata": {
        "id": "wfYON9VJGQV0"
      },
      "outputs": [],
      "source": [
        "qna_df.head"
      ],
      "id": "wfYON9VJGQV0"
    },
    {
      "cell_type": "code",
      "execution_count": null,
      "metadata": {
        "id": "xIBPxjTr9Vw5"
      },
      "outputs": [],
      "source": [
        "from google.colab import drive\n",
        "drive.mount('drive')"
      ],
      "id": "xIBPxjTr9Vw5"
    },
    {
      "cell_type": "code",
      "execution_count": null,
      "metadata": {
        "id": "TalJlK1k9alW"
      },
      "outputs": [],
      "source": [
        "!cp openbook-qna-data.csv \"drive/My Drive/\""
      ],
      "id": "TalJlK1k9alW"
    },
    {
      "cell_type": "code",
      "execution_count": null,
      "metadata": {
        "id": "weMxR1QlMxa1"
      },
      "outputs": [],
      "source": [],
      "id": "weMxR1QlMxa1"
    }
  ],
  "metadata": {
    "accelerator": "GPU",
    "colab": {
      "provenance": [],
      "gpuType": "T4"
    },
    "kernelspec": {
      "display_name": "Python 3",
      "name": "python3"
    },
    "language_info": {
      "codemirror_mode": {
        "name": "ipython",
        "version": 2
      },
      "file_extension": ".py",
      "mimetype": "text/x-python",
      "name": "python",
      "nbconvert_exporter": "python",
      "pygments_lexer": "ipython2",
      "version": "2.7.6"
    }
  },
  "nbformat": 4,
  "nbformat_minor": 5
}